{
 "cells": [
  {
   "cell_type": "markdown",
   "metadata": {},
   "source": [
    "# Assignment on K-Means Clustering:\n",
    "\n",
    "We have given a collection of 8 points. P1=[0.1,0.6] P2=[0.15,0.71] P3=[0.08,0.9] P4=[0.16,0.85] P5=[0.2,0.3] P6=[0.25,0.5] P7=[0.24,0.1] P8=[0.3,0.2]. \n",
    "<br><br>\n",
    "Perform the k-mean clustering with initial centroids as\n",
    "m1=P1 =Cluster#1=C1 and m2=P8=cluster#2=C2. \n",
    "<br>\n",
    "Answer the following<br>\n",
    "1] Which cluster does P6 belongs to?<br>\n",
    "2] What is the population of cluster around m2?<br>\n",
    "3] What is updated value of m1 and m2?<br>"
   ]
  },
  {
   "cell_type": "code",
   "execution_count": 58,
   "metadata": {},
   "outputs": [],
   "source": [
    "import numpy as np\n",
    "import pandas as pd\n",
    "from sklearn.cluster import KMeans\n",
    "\n",
    "import matplotlib.pyplot as plt\n",
    "%matplotlib inline"
   ]
  },
  {
   "cell_type": "code",
   "execution_count": 59,
   "metadata": {},
   "outputs": [],
   "source": [
    "points = np.array([[0.1,0.6], \n",
    "                   [0.15,0.71], \n",
    "                   [0.08,0.9], \n",
    "                   [0.16, 0.85], \n",
    "                   [0.2,0.3], \n",
    "                   [0.25,0.5], \n",
    "                   [0.24,0.1], \n",
    "                   [0.3,0.2]])"
   ]
  },
  {
   "cell_type": "code",
   "execution_count": 60,
   "metadata": {},
   "outputs": [],
   "source": [
    "x = np.array([0.1,0.6])\n",
    "y = np.array([0.3,0.2])\n",
    "\n",
    "center = x, y"
   ]
  },
  {
   "cell_type": "code",
   "execution_count": 61,
   "metadata": {},
   "outputs": [
    {
     "data": {
      "image/png": "[encoded data removed]",
      "text/plain": [
       "<Figure size 432x288 with 1 Axes>"
      ]
     },
     "metadata": {
      "needs_background": "light"
     },
     "output_type": "display_data"
    }
   ],
   "source": [
    "# plt.plot(points, '.')\n",
    "# plt.plot(x, '*')\n",
    "# plt.plot(y, '*')\n",
    "# plt.show()\n",
    "\n",
    "plt.scatter(points[:, 0], points[:, 1])\n",
    "plt.scatter(x[0], x[1])\n",
    "plt.scatter(y[0], y[1])\n",
    "plt.show()"
   ]
  },
  {
   "cell_type": "code",
   "execution_count": 62,
   "metadata": {},
   "outputs": [
    {
     "data": {
      "text/plain": [
       "KMeans(algorithm='auto', copy_x=True, init='k-means++', max_iter=300,\n",
       "    n_clusters=2, n_init=10, n_jobs=None, precompute_distances='auto',\n",
       "    random_state=None, tol=0.0001, verbose=0)"
      ]
     },
     "execution_count": 62,
     "metadata": {},
     "output_type": "execute_result"
    }
   ],
   "source": [
    "model = KMeans(n_clusters=2)\n",
    "model.fit(points)"
   ]
  },
  {
   "cell_type": "code",
   "execution_count": 63,
   "metadata": {},
   "outputs": [
    {
     "data": {
      "text/plain": [
       "array([0, 0, 0, 0, 1, 1, 1, 1], dtype=int32)"
      ]
     },
     "execution_count": 63,
     "metadata": {},
     "output_type": "execute_result"
    }
   ],
   "source": [
    "output = model.labels_\n",
    "output"
   ]
  },
  {
   "cell_type": "code",
   "execution_count": 64,
   "metadata": {},
   "outputs": [
    {
     "name": "stdout",
     "output_type": "stream",
     "text": [
      "Point p6 belongs to cluster 1\n"
     ]
    }
   ],
   "source": [
    "print('Point p6 belongs to cluster {}'.format(output[5]))"
   ]
  },
  {
   "cell_type": "code",
   "execution_count": 65,
   "metadata": {},
   "outputs": [
    {
     "name": "stdout",
     "output_type": "stream",
     "text": [
      "Points in cluster 0: 4\n"
     ]
    }
   ],
   "source": [
    "temp = 0\n",
    "for i in range(len(output)):\n",
    "    if output[i] == 0:\n",
    "        temp += 1\n",
    "\n",
    "print('Points in cluster 0: {}'.format(temp))"
   ]
  },
  {
   "cell_type": "code",
   "execution_count": 66,
   "metadata": {},
   "outputs": [
    {
     "name": "stdout",
     "output_type": "stream",
     "text": [
      "New centroids: \n",
      "m1: [0.1225 0.765 ] \n",
      "m2: [0.2475 0.275 ]\n"
     ]
    }
   ],
   "source": [
    "print('New centroids: \\nm1: {} \\nm2: {}'.format(model.cluster_centers_[0], model.cluster_centers_[1]))"
   ]
  },
  {
   "cell_type": "code",
   "execution_count": null,
   "metadata": {},
   "outputs": [],
   "source": []
  }
 ],
 "metadata": {
  "kernelspec": {
   "display_name": "Python 3",
   "language": "python",
   "name": "python3"
  },
  "language_info": {
   "codemirror_mode": {
    "name": "ipython",
    "version": 3
   },
   "file_extension": ".py",
   "mimetype": "text/x-python",
   "name": "python",
   "nbconvert_exporter": "python",
   "pygments_lexer": "ipython3",
   "version": "3.7.1"
  }
 },
 "nbformat": 4,
 "nbformat_minor": 2
}
