{
 "cells": [
  {
   "cell_type": "code",
   "execution_count": 2,
   "metadata": {
    "colab": {},
    "colab_type": "code",
    "id": "Y62le--iNQ_g"
   },
   "outputs": [],
   "source": [
    "import numpy as np\n",
    "import pandas as pd\n",
    "from sklearn.metrics import accuracy_score"
   ]
  },
  {
   "cell_type": "code",
   "execution_count": 5,
   "metadata": {},
   "outputs": [],
   "source": [
    "data = np.array([[0, 0, 0], \n",
    "               [0, 1, 1], \n",
    "               [1, 0, 1], \n",
    "               [1, 1, 1]])"
   ]
  },
  {
   "cell_type": "code",
   "execution_count": 6,
   "metadata": {},
   "outputs": [
    {
     "name": "stdout",
     "output_type": "stream",
     "text": [
      "[[0 0]\n",
      " [0 1]\n",
      " [1 0]\n",
      " [1 1]]\n",
      "\n",
      "[0 1 1 1]\n"
     ]
    }
   ],
   "source": [
    "X = data[:, :-1]\n",
    "Y = data[:, -1]\n",
    "print(X)\n",
    "print()\n",
    "print(Y)"
   ]
  },
  {
   "cell_type": "code",
   "execution_count": 13,
   "metadata": {},
   "outputs": [],
   "source": [
    "X_test = np.array([[0, 0], \n",
    "                  [1, 1], \n",
    "                  [1, 0]])\n",
    "\n",
    "Y_test = np.array([0, 1, 1])"
   ]
  },
  {
   "cell_type": "code",
   "execution_count": 14,
   "metadata": {},
   "outputs": [],
   "source": [
    "class Perceptron:\n",
    "    def __init__ (self):\n",
    "        self.w = None\n",
    "        self.b = None\n",
    "        \n",
    "    def model(self, x):\n",
    "        return 1 if (np.dot(self.w, x) >= self.b) else 0\n",
    "    \n",
    "    def predict(self, X):\n",
    "        Y = []\n",
    "        for x in X:\n",
    "            result = self.model(x)\n",
    "            Y.append(result)\n",
    "        return np.array(Y)\n",
    "    \n",
    "    def fit(self, X, Y, epochs = 1, lr = 1):\n",
    "        self.w = np.ones(X.shape[1])\n",
    "        self.b = 0\n",
    "\n",
    "        accuracy = {}\n",
    "        max_accuracy = 0\n",
    "        wt_matrix = []\n",
    "    \n",
    "        for i in range(epochs):\n",
    "            for x, y in zip(X, Y):\n",
    "                y_pred = self.model(x)\n",
    "                if y == 1 and y_pred == 0:\n",
    "                    self.w = self.w + lr * x\n",
    "                    self.b = self.b - lr * 1\n",
    "                elif y == 0 and y_pred == 1:\n",
    "                    self.w = self.w - lr * x\n",
    "                    self.b = self.b + lr * 1\n",
    "\n",
    "            wt_matrix.append(self.w)    \n",
    "\n",
    "            accuracy[i] = accuracy_score(self.predict(X), Y)\n",
    "            if (accuracy[i] > max_accuracy):\n",
    "                max_accuracy = accuracy[i]\n",
    "                chkptw = self.w\n",
    "                chkptb = self.b\n",
    "\n",
    "        self.w = chkptw\n",
    "        self.b = chkptb\n",
    "        \n",
    "        print(max_accuracy)\n",
    "        return np.array(wt_matrix)"
   ]
  },
  {
   "cell_type": "code",
   "execution_count": 15,
   "metadata": {},
   "outputs": [],
   "source": [
    "perceptron = Perceptron()"
   ]
  },
  {
   "cell_type": "code",
   "execution_count": 16,
   "metadata": {},
   "outputs": [
    {
     "name": "stdout",
     "output_type": "stream",
     "text": [
      "1.0\n"
     ]
    },
    {
     "data": {
      "text/plain": [
       "array([[1., 1.]])"
      ]
     },
     "execution_count": 16,
     "metadata": {},
     "output_type": "execute_result"
    }
   ],
   "source": [
    "perceptron.fit(X, Y)"
   ]
  },
  {
   "cell_type": "code",
   "execution_count": 18,
   "metadata": {},
   "outputs": [
    {
     "name": "stdout",
     "output_type": "stream",
     "text": [
      "[0 1 1]\n"
     ]
    }
   ],
   "source": [
    "result = perceptron.predict(X_test)\n",
    "print(result)"
   ]
  },
  {
   "cell_type": "code",
   "execution_count": 19,
   "metadata": {},
   "outputs": [
    {
     "name": "stdout",
     "output_type": "stream",
     "text": [
      "Accuracy:  1.0\n"
     ]
    }
   ],
   "source": [
    "print('Accuracy: ', accuracy_score(result, Y_test))"
   ]
  }
 ],
 "metadata": {
  "colab": {
   "collapsed_sections": [
    "fT9sC0UKb12E",
    "HsV1gX3Ge-WC",
    "nNPjMZiwvwp6"
   ],
   "name": "0214_MPNeuronAndPerceptron.ipynb",
   "provenance": [],
   "version": "0.3.2"
  },
  "kernelspec": {
   "display_name": "Python 3",
   "language": "python",
   "name": "python3"
  },
  "language_info": {
   "codemirror_mode": {
    "name": "ipython",
    "version": 3
   },
   "file_extension": ".py",
   "mimetype": "text/x-python",
   "name": "python",
   "nbconvert_exporter": "python",
   "pygments_lexer": "ipython3",
   "version": "3.7.1"
  }
 },
 "nbformat": 4,
 "nbformat_minor": 1
}
