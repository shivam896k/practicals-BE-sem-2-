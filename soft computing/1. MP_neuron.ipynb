{
 "cells": [
  {
   "cell_type": "code",
   "execution_count": 34,
   "metadata": {
    "colab": {},
    "colab_type": "code",
    "id": "Y62le--iNQ_g"
   },
   "outputs": [],
   "source": [
    "import numpy as np\n",
    "import pandas as pd\n",
    "from sklearn.metrics import accuracy_score"
   ]
  },
  {
   "cell_type": "code",
   "execution_count": 35,
   "metadata": {},
   "outputs": [],
   "source": [
    "data = np.array([[0, 0, 0], \n",
    "                 [0, 1, 1], \n",
    "                 [1, 0, 1], \n",
    "                 [1, 1, 1]])"
   ]
  },
  {
   "cell_type": "code",
   "execution_count": 36,
   "metadata": {},
   "outputs": [
    {
     "name": "stdout",
     "output_type": "stream",
     "text": [
      "[[0 0 0]\n",
      " [0 1 1]\n",
      " [1 0 1]\n",
      " [1 1 1]]\n"
     ]
    }
   ],
   "source": [
    "print(data)"
   ]
  },
  {
   "cell_type": "code",
   "execution_count": 37,
   "metadata": {},
   "outputs": [
    {
     "name": "stdout",
     "output_type": "stream",
     "text": [
      "[[0 0]\n",
      " [0 1]\n",
      " [1 0]\n",
      " [1 1]]\n",
      "\n",
      "[0 1 1 1]\n"
     ]
    }
   ],
   "source": [
    "X = data[:, :-1]\n",
    "Y = data[:, -1]\n",
    "print(X)\n",
    "print()\n",
    "print(Y)"
   ]
  },
  {
   "cell_type": "code",
   "execution_count": 38,
   "metadata": {},
   "outputs": [
    {
     "data": {
      "text/plain": [
       "(4, 2)"
      ]
     },
     "execution_count": 38,
     "metadata": {},
     "output_type": "execute_result"
    }
   ],
   "source": [
    "X.shape"
   ]
  },
  {
   "cell_type": "code",
   "execution_count": 39,
   "metadata": {},
   "outputs": [
    {
     "name": "stdout",
     "output_type": "stream",
     "text": [
      "0 0.75\n",
      "1 1.0\n",
      "2 0.5\n"
     ]
    }
   ],
   "source": [
    "for b in range(X.shape[1] + 1):\n",
    "    Y_pred_train = []\n",
    "    accurate_rows = 0\n",
    "\n",
    "    for x, y in zip(X, Y):\n",
    "        y_pred = (np.sum(x) >= b)\n",
    "        Y_pred_train.append(y_pred)\n",
    "        accurate_rows += (y == y_pred)\n",
    "\n",
    "    print(b, accurate_rows/X.shape[0])  "
   ]
  },
  {
   "cell_type": "code",
   "execution_count": 40,
   "metadata": {},
   "outputs": [],
   "source": [
    "X_test = np.array([[0, 1], \n",
    "                  [1, 0], \n",
    "                  [0, 0]])\n",
    "\n",
    "Y_test = np.array([1, 1, 0])"
   ]
  },
  {
   "cell_type": "code",
   "execution_count": 41,
   "metadata": {},
   "outputs": [
    {
     "name": "stdout",
     "output_type": "stream",
     "text": [
      "[0 1]  ->  1\n",
      "[1 0]  ->  1\n",
      "[0 0]  ->  0\n",
      "Accuracy:  1.0\n"
     ]
    }
   ],
   "source": [
    "b = 1\n",
    "\n",
    "Y_pred_test = []\n",
    "\n",
    "for x in X_test:\n",
    "    y_pred = (np.sum(x) >= b)\n",
    "    Y_pred_test.append(y_pred)\n",
    "    print(x, ' -> ', int(y_pred))\n",
    "\n",
    "accuracy = accuracy_score(Y_pred_test, Y_test)\n",
    "print('Accuracy: ', accuracy)  "
   ]
  }
 ],
 "metadata": {
  "colab": {
   "collapsed_sections": [
    "fT9sC0UKb12E",
    "HsV1gX3Ge-WC",
    "nNPjMZiwvwp6"
   ],
   "name": "0214_MPNeuronAndPerceptron.ipynb",
   "provenance": [],
   "version": "0.3.2"
  },
  "kernelspec": {
   "display_name": "Python 3",
   "language": "python",
   "name": "python3"
  },
  "language_info": {
   "codemirror_mode": {
    "name": "ipython",
    "version": 3
   },
   "file_extension": ".py",
   "mimetype": "text/x-python",
   "name": "python",
   "nbconvert_exporter": "python",
   "pygments_lexer": "ipython3",
   "version": "3.7.1"
  }
 },
 "nbformat": 4,
 "nbformat_minor": 1
}
