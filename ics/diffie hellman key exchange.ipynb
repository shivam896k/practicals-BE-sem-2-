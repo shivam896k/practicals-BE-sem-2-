{
 "cells": [
  {
   "cell_type": "code",
   "execution_count": 49,
   "metadata": {},
   "outputs": [],
   "source": [
    "import random"
   ]
  },
  {
   "cell_type": "code",
   "execution_count": 51,
   "metadata": {},
   "outputs": [],
   "source": [
    "primes = []\n",
    "\n",
    "def prime():\n",
    "    for i in range(2, 100):\n",
    "        ans = True\n",
    "        for j in range(2, i):\n",
    "            if i%j == 0:\n",
    "                ans = False\n",
    "                break\n",
    "        if ans == True:\n",
    "            primes.append(i)"
   ]
  },
  {
   "cell_type": "code",
   "execution_count": 52,
   "metadata": {},
   "outputs": [
    {
     "name": "stdout",
     "output_type": "stream",
     "text": [
      "[2, 3, 5, 7, 11, 13, 17, 19, 23, 29, 31, 37, 41, 43, 47, 53, 59, 61, 67, 71, 73, 79, 83, 89, 97]\n"
     ]
    }
   ],
   "source": [
    "prime()\n",
    "print(primes)"
   ]
  },
  {
   "cell_type": "code",
   "execution_count": 53,
   "metadata": {},
   "outputs": [],
   "source": [
    "def getRandomPrime():\n",
    "    return primes[random.randint(0, len(primes)+1)]"
   ]
  },
  {
   "cell_type": "code",
   "execution_count": 54,
   "metadata": {},
   "outputs": [
    {
     "name": "stdout",
     "output_type": "stream",
     "text": [
      "Alice:  53 \n",
      "Bob:  47\n"
     ]
    }
   ],
   "source": [
    "# shared prime numbers\n",
    "p, q = getRandomPrime(), getRandomPrime()\n",
    "print('Alice: ', p,'\\nBob: ', q)"
   ]
  },
  {
   "cell_type": "code",
   "execution_count": 55,
   "metadata": {},
   "outputs": [
    {
     "name": "stdout",
     "output_type": "stream",
     "text": [
      "a:  24 \n",
      "b:  69\n"
     ]
    }
   ],
   "source": [
    "a, b = random.randint(1, 100), random.randint(1, 100)\n",
    "print('a: ', a, '\\nb: ', b)"
   ]
  },
  {
   "cell_type": "code",
   "execution_count": 56,
   "metadata": {},
   "outputs": [
    {
     "name": "stdout",
     "output_type": "stream",
     "text": [
      "alice:  28 \n",
      "bob:  24\n"
     ]
    }
   ],
   "source": [
    "at = pow(q, a)%p\n",
    "bt = pow(q, b)%p\n",
    "\n",
    "print('alice: ', at, '\\nbob: ', bt)"
   ]
  },
  {
   "cell_type": "code",
   "execution_count": 57,
   "metadata": {},
   "outputs": [
    {
     "name": "stdout",
     "output_type": "stream",
     "text": [
      "15 15\n"
     ]
    }
   ],
   "source": [
    "x = pow(bt, a)%p\n",
    "y = pow(at, b)%p\n",
    "print(x, y)"
   ]
  },
  {
   "cell_type": "code",
   "execution_count": null,
   "metadata": {},
   "outputs": [],
   "source": []
  }
 ],
 "metadata": {
  "kernelspec": {
   "display_name": "Python 3",
   "language": "python",
   "name": "python3"
  },
  "language_info": {
   "codemirror_mode": {
    "name": "ipython",
    "version": 3
   },
   "file_extension": ".py",
   "mimetype": "text/x-python",
   "name": "python",
   "nbconvert_exporter": "python",
   "pygments_lexer": "ipython3",
   "version": "3.7.1"
  }
 },
 "nbformat": 4,
 "nbformat_minor": 2
}
