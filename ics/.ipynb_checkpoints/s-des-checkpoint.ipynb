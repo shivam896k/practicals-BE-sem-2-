{
 "cells": [
  {
   "cell_type": "code",
   "execution_count": 5,
   "metadata": {},
   "outputs": [],
   "source": [
    "from Crypto.Cipher import AES"
   ]
  },
  {
   "cell_type": "code",
   "execution_count": 7,
   "metadata": {},
   "outputs": [],
   "source": [
    "#base64 is used for encoding. dont confuse encoding with encryption#\n",
    "#encryption is used for disguising data\n",
    "#encoding is used for putting data in a specific format\n",
    "import base64\n",
    "# os is for urandom, which is an accepted producer of randomness that\n",
    "# is suitable for cryptology.\n",
    "import os\n",
    "def encryption(privateInfo):\n",
    "    #32 bytes = 256 bits\n",
    "    #16 = 128 bits\n",
    "    # the block size for cipher obj, can be 16 24 or 32. 16 matches 128 bit.\n",
    "    BLOCK_SIZE = 16\n",
    "    # the character used for padding\n",
    "    # used to ensure that your value is always a multiple of BLOCK_SIZE\n",
    "    PADDING = '{'\n",
    "    # function to pad the functions. Lambda\n",
    "    # is used for abstraction of functions.\n",
    "    # basically, its a function, and you define it, followed by the param\n",
    "    # followed by a colon,\n",
    "    # ex = lambda x: x+5\n",
    "    pad = lambda s: s + (BLOCK_SIZE - len(s) % BLOCK_SIZE) * PADDING\n",
    "    # encrypt with AES, encode with base64\n",
    "    EncodeAES = lambda c, s: base64.b64encode(c.encrypt(pad(s)))\n",
    "    # generate a randomized secret key with urandom\n",
    "    secret = os.urandom(BLOCK_SIZE)\n",
    "    print('encryption key:',secret)\n",
    "    # creates the cipher obj using the key\n",
    "    cipher = AES.new(secret)\n",
    "    # encodes you private info!\n",
    "    encoded = EncodeAES(cipher, privateInfo)\n",
    "    print('Encrypted string:', encoded)"
   ]
  },
  {
   "cell_type": "code",
   "execution_count": null,
   "metadata": {},
   "outputs": [],
   "source": [
    "from Crypto.Cipher import AES\n",
    "import base64\n",
    "import os\n",
    "def decryption(encryptedString):\n",
    "    PADDING = '{'\n",
    "    DecodeAES = lambda c, e: c.decrypt(base64.b64decode(e)).rstrip(PADDING)\n",
    "    #Key is FROM the printout of 'secret' in encryption\n",
    "    #below is the encryption.\n",
    "    encryption = encryptedString\n",
    "    key = ''\n",
    "    cipher = AES.new(key)\n",
    "    decoded = DecodeAES(cipher, encryption)\n",
    "    print decoded"
   ]
  }
 ],
 "metadata": {
  "kernelspec": {
   "display_name": "Python 3",
   "language": "python",
   "name": "python3"
  },
  "language_info": {
   "codemirror_mode": {
    "name": "ipython",
    "version": 3
   },
   "file_extension": ".py",
   "mimetype": "text/x-python",
   "name": "python",
   "nbconvert_exporter": "python",
   "pygments_lexer": "ipython3",
   "version": "3.7.1"
  }
 },
 "nbformat": 4,
 "nbformat_minor": 2
}
