{
 "cells": [
  {
   "cell_type": "code",
   "execution_count": 64,
   "metadata": {},
   "outputs": [],
   "source": [
    "from Crypto.Cipher import AES\n",
    "from Crypto.Hash import MD5\n",
    "import base64"
   ]
  },
  {
   "cell_type": "markdown",
   "metadata": {},
   "source": [
    "# Encryption and decryption"
   ]
  },
  {
   "cell_type": "code",
   "execution_count": 183,
   "metadata": {},
   "outputs": [],
   "source": [
    "class AESEncoder:\n",
    "    def __init__(self, password):\n",
    "        self.block_size = 32\n",
    "        self.padding = '{'\n",
    "        \n",
    "        secret = MD5.new()\n",
    "        secret.update(password.encode('utf-8'))\n",
    "        self.cipher = AES.new(secret.hexdigest())\n",
    "\n",
    "    def encrypt(self, value):\n",
    "        value += (self.block_size - len(value) % self.block_size) * self.padding \n",
    "        result = self.cipher.encrypt(value)\n",
    "        \n",
    "        result = base64.standard_b64encode(result)\n",
    "            \n",
    "        return result\n",
    "\n",
    "    def decrypt(self, value):\n",
    "        \n",
    "        value = base64.b64decode(value)\n",
    "            \n",
    "        return self.cipher.decrypt(value).decode('utf-8').rstrip(self.padding)\n"
   ]
  },
  {
   "cell_type": "code",
   "execution_count": 184,
   "metadata": {},
   "outputs": [
    {
     "name": "stdout",
     "output_type": "stream",
     "text": [
      "Encrypted string:  b'FR6OL//r89QBQ66LRGeWM1RbDXLRkNPCupXSU8ftHa8='\n",
      "type <class 'str'>\n",
      "Decrypted string:  hello world this is shivam.\n"
     ]
    }
   ],
   "source": [
    "def testing(obj):\n",
    "    message = \"hello world this is shivam.\"\n",
    "    encoded = obj.encrypt(message)\n",
    "    print('Encrypted string: ', encoded)\n",
    "    \n",
    "    decoded = obj.decrypt(encoded)\n",
    "    print('type', type(decoded))\n",
    "    print ('Decrypted string: ', decoded)\n",
    "\n",
    "\n",
    "testing(AESEncoder(\"shivam\"))"
   ]
  },
  {
   "cell_type": "code",
   "execution_count": null,
   "metadata": {},
   "outputs": [],
   "source": []
  }
 ],
 "metadata": {
  "kernelspec": {
   "display_name": "Python 3",
   "language": "python",
   "name": "python3"
  },
  "language_info": {
   "codemirror_mode": {
    "name": "ipython",
    "version": 3
   },
   "file_extension": ".py",
   "mimetype": "text/x-python",
   "name": "python",
   "nbconvert_exporter": "python",
   "pygments_lexer": "ipython3",
   "version": "3.7.1"
  }
 },
 "nbformat": 4,
 "nbformat_minor": 2
}
